{
 "cells": [
  {
   "cell_type": "code",
   "execution_count": 2,
   "id": "74ae4917-eaaf-4b16-ace5-2e431656a7ec",
   "metadata": {},
   "outputs": [],
   "source": [
    "# Data Science Tools and Ecosystem"
   ]
  },
  {
   "cell_type": "code",
   "execution_count": 3,
   "id": "38c23a9f-c0be-4054-9042-44adfac66cb0",
   "metadata": {},
   "outputs": [
    {
     "ename": "SyntaxError",
     "evalue": "invalid syntax (2029855107.py, line 1)",
     "output_type": "error",
     "traceback": [
      "\u001b[0;36m  Cell \u001b[0;32mIn[3], line 1\u001b[0;36m\u001b[0m\n\u001b[0;31m    In this notebook, Data Science Tools and Ecosystem are summarized.\u001b[0m\n\u001b[0m       ^\u001b[0m\n\u001b[0;31mSyntaxError\u001b[0m\u001b[0;31m:\u001b[0m invalid syntax\n"
     ]
    }
   ],
   "source": [
    "In this notebook, Data Science Tools and Ecosystem are summarized.\n"
   ]
  },
  {
   "cell_type": "code",
   "execution_count": null,
   "id": "51807c0e-9359-43d7-8de9-04c4eec3a393",
   "metadata": {},
   "outputs": [],
   "source": [
    "Some of the popular languages that Data Scientists use are:\n",
    "1. Python\n",
    "2. R\n",
    "3. SQL\n"
   ]
  },
  {
   "cell_type": "code",
   "execution_count": null,
   "id": "06da88c5-da10-4b58-98f2-9720e0c6128e",
   "metadata": {},
   "outputs": [],
   "source": [
    "Some of the commonly used libraries used by Data Scientists include:\n",
    "1. NumPy\n",
    "2. Pandas\n",
    "3. Scikit-learn\n"
   ]
  },
  {
   "cell_type": "code",
   "execution_count": null,
   "id": "f705a1f5-e0f4-4366-b715-e4447013e707",
   "metadata": {},
   "outputs": [],
   "source": [
    "| Data Science Tools |\n",
    "|--------------------|\n",
    "| Jupyter Notebook   |\n",
    "| RStudio            |\n",
    "| VS Code            |\n"
   ]
  },
  {
   "cell_type": "code",
   "execution_count": 5,
   "id": "8b3e3f0a-b1b4-4ffb-b321-79729bdfc20e",
   "metadata": {},
   "outputs": [],
   "source": [
    "### Below are a few examples of evaluating arithmetic expressions in Python.\n"
   ]
  },
  {
   "cell_type": "code",
   "execution_count": 6,
   "id": "00bd32de-e118-4e74-89eb-90649cff02bb",
   "metadata": {},
   "outputs": [
    {
     "data": {
      "text/plain": [
       "17"
      ]
     },
     "execution_count": 6,
     "metadata": {},
     "output_type": "execute_result"
    }
   ],
   "source": [
    "# This is a simple arithmetic expression to multiply then add integers.\n",
    "(3 * 4) + 5\n"
   ]
  },
  {
   "cell_type": "code",
   "execution_count": 7,
   "id": "d729e04a-364f-4d40-b8da-7279e9a73e8b",
   "metadata": {},
   "outputs": [
    {
     "data": {
      "text/plain": [
       "3.3333333333333335"
      ]
     },
     "execution_count": 7,
     "metadata": {},
     "output_type": "execute_result"
    }
   ],
   "source": [
    "# This will convert 200 minutes to hours by dividing by 60.\n",
    "200 / 60\n"
   ]
  },
  {
   "cell_type": "code",
   "execution_count": null,
   "id": "3501eed3-454b-40b9-937b-83ad532cddd0",
   "metadata": {},
   "outputs": [],
   "source": [
    "**Objectives:**\n",
    "- List popular languages for Data Science.\n",
    "- Identify common data science libraries.\n",
    "- Explore tools used by data scientists.\n",
    "- Perform arithmetic operations in Python.\n"
   ]
  },
  {
   "cell_type": "code",
   "execution_count": null,
   "id": "4fbc8503-9487-4ca1-a97a-4c6d7e9ddf08",
   "metadata": {},
   "outputs": [],
   "source": [
    "## Author  \n",
    "[Hasini Rajapaksha]\n"
   ]
  },
  {
   "cell_type": "code",
   "execution_count": null,
   "id": "b501ca72-8b9a-48b8-9437-4d8fac290ae3",
   "metadata": {},
   "outputs": [],
   "source": [
    "https://github.com/HasiniRajapaksha/-DataScienceEcosystem"
   ]
  }
 ],
 "metadata": {
  "kernelspec": {
   "display_name": "Python 3 (ipykernel)",
   "language": "python",
   "name": "python3"
  },
  "language_info": {
   "codemirror_mode": {
    "name": "ipython",
    "version": 3
   },
   "file_extension": ".py",
   "mimetype": "text/x-python",
   "name": "python",
   "nbconvert_exporter": "python",
   "pygments_lexer": "ipython3",
   "version": "3.12.8"
  }
 },
 "nbformat": 4,
 "nbformat_minor": 5
}
